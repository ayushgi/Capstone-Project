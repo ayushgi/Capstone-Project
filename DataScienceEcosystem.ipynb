{
 "cells": [
  {
   "cell_type": "markdown",
   "id": "edd922d6-cf9c-4822-93c7-141e79d3b0b0",
   "metadata": {},
   "source": [
    "# Data Science Tools and Ecosystem"
   ]
  },
  {
   "cell_type": "markdown",
   "id": "f6dea5fa-bf28-4613-a9dc-e73969e07cdf",
   "metadata": {},
   "source": [
    "## Introduction\n",
    "\n",
    "In this notebook, Data Science Tools and Ecosystem are summarized.\n"
   ]
  },
  {
   "cell_type": "markdown",
   "id": "e8e77884-50d7-4b3e-afdb-799b71ed9713",
   "metadata": {},
   "source": [
    "## Data Science Languages\n",
    "\n",
    "Some of the popular languages that Data Scientists use are:\n",
    "\n",
    "1. Python\n",
    "2. R\n",
    "3. SQL"
   ]
  },
  {
   "cell_type": "markdown",
   "id": "2a29ddb0-4ec3-4a1a-9036-ead29deb567d",
   "metadata": {},
   "source": [
    "## Data Science Libraries\n",
    "\n",
    "Some of the commonly used libraries used by Data Scientists include:\n",
    "\n",
    "1. NumPy\n",
    "2. Pandas\n",
    "3. Matplotlib\n"
   ]
  },
  {
   "cell_type": "markdown",
   "id": "dc2f4d53-8bc2-4085-9119-28e6117be9dc",
   "metadata": {},
   "source": [
    "## Data Science Tools\n",
    "\n",
    "| Data Science Tools |\n",
    "|--------------------|\n",
    "| Jupyter Notebook   |\n",
    "| RStudio            |\n",
    "| Visual Studio Code |\n"
   ]
  },
  {
   "cell_type": "markdown",
   "id": "ceaa83da-1958-4073-af2b-09af3e8baae6",
   "metadata": {},
   "source": [
    "### Arithmetic Expression Examples\n",
    "\n",
    "Below are a few examples of evaluating arithmetic expressions in Python:\n",
    "# Addition\n",
    "result_addition = 5 + 3\n",
    "print(\"Addition:\", result_addition)  \n",
    "\n",
    "# Subtraction\n",
    "result_subtraction = 10 - 4\n",
    "print(\"Subtraction:\", result_subtraction)  \n"
   ]
  },
  {
   "cell_type": "code",
   "execution_count": 3,
   "id": "7cfc528b-288e-416e-a847-92c26a0dbcfd",
   "metadata": {
    "tags": []
   },
   "outputs": [
    {
     "name": "stdout",
     "output_type": "stream",
     "text": [
      "Result: 17\n"
     ]
    }
   ],
   "source": [
    "# This is a simple arithmetic expression to multiply then add integers\n",
    "result = (3 * 4) + 5\n",
    "print(\"Result:\", result)\n"
   ]
  },
  {
   "cell_type": "code",
   "execution_count": 2,
   "id": "23998d46-920c-4767-8cfc-4dbf156edd68",
   "metadata": {
    "tags": []
   },
   "outputs": [
    {
     "name": "stdout",
     "output_type": "stream",
     "text": [
      "200 minutes is equal to 3.3333333333333335 hours\n"
     ]
    }
   ],
   "source": [
    "# This will convert 200 minutes to hours by dividing by 60\n",
    "minutes = 200\n",
    "hours = minutes / 60\n",
    "print(\"200 minutes is equal to\", hours, \"hours\")\n"
   ]
  },
  {
   "cell_type": "markdown",
   "id": "345160dc-a24c-4f23-b979-8ea627f89402",
   "metadata": {},
   "source": [
    "**Objectives:**\n",
    "\n",
    "- **List popular languages for Data Science**: Python, R, and SQL.\n",
    "\n",
    "- **Introduce common libraries used in Data Science**: NumPy, Pandas, and Matplotlib, for data manipulation, analysis, and visualization.\n",
    "\n",
    "- **Explore development environments for Data Science**: Jupyter Notebook, RStudio, and Visual Studio Code, and their features for coding, analysis, and collaboration.\n"
   ]
  },
  {
   "cell_type": "markdown",
   "id": "3ec25ad3-62a1-488d-b781-5895e74519a0",
   "metadata": {},
   "source": [
    "## Author\n",
    "\n",
    "Sanad Fakhoury\n"
   ]
  },
  {
   "cell_type": "code",
   "execution_count": null,
   "id": "d02413bb-09bf-45e9-9164-18ee1dbeb16a",
   "metadata": {},
   "outputs": [],
   "source": []
  }
 ],
 "metadata": {
  "kernelspec": {
   "display_name": "Python 3 (ipykernel)",
   "language": "python",
   "name": "python3"
  },
  "language_info": {
   "codemirror_mode": {
    "name": "ipython",
    "version": 3
   },
   "file_extension": ".py",
   "mimetype": "text/x-python",
   "name": "python",
   "nbconvert_exporter": "python",
   "pygments_lexer": "ipython3",
   "version": "3.11.5"
  }
 },
 "nbformat": 4,
 "nbformat_minor": 5
}
